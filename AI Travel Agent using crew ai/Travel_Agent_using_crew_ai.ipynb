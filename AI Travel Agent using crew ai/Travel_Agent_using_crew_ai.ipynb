{
 "cells": [
  {
   "cell_type": "code",
   "execution_count": null,
   "metadata": {
    "colab": {
     "base_uri": "https://localhost:8080/"
    },
    "id": "hHeuSCq_uVy2",
    "outputId": "76f4c3f8-ca51-4a0e-a808-0d857f232773"
   },
   "outputs": [],
   "source": [
    "!pip install -qU crewai langchain_openai crewai 'crewai[tools]' google-search-results"
   ]
  },
  {
   "cell_type": "markdown",
   "metadata": {
    "id": "PvTeF1a20Yg9"
   },
   "source": [
    "###Setup API Keys"
   ]
  },
  {
   "cell_type": "code",
   "execution_count": null,
   "metadata": {
    "id": "46WooK1suaPQ"
   },
   "outputs": [],
   "source": [
    "import os\n",
    "from google.colab import userdata\n",
    "os.environ[\"GEMINI_API_KEY\"] = userdata.get('GEMINI_API_KEY')\n",
    "os.environ[\"SERPER_API_KEY\"] = userdata.get('SERPER_API_KEY')"
   ]
  },
  {
   "cell_type": "markdown",
   "metadata": {
    "id": "IfLfg_dtKBFB"
   },
   "source": [
    "###Initialize Models"
   ]
  },
  {
   "cell_type": "code",
   "execution_count": null,
   "metadata": {
    "id": "whOXjfQRueMV"
   },
   "outputs": [],
   "source": [
    "from langchain_openai import ChatOpenAI\n",
    "from crewai import LLM\n",
    "Gemini = LLM(\n",
    "    model=\"gemini/gemini-2.0-flash\",)\n",
    "\n"
   ]
  },
  {
   "cell_type": "markdown",
   "metadata": {
    "id": "OGO9Gr0mAJpu"
   },
   "source": [
    "###1. AI Travel Agent 🧳\n"
   ]
  },
  {
   "cell_type": "code",
   "execution_count": null,
   "metadata": {
    "colab": {
     "base_uri": "https://localhost:8080/"
    },
    "id": "Zm9_pd42ujm9",
    "outputId": "cd46878e-5252-4579-bbf2-21c6b73d99c6"
   },
   "outputs": [],
   "source": [
    "from crewai import Agent, Task, Crew, Process\n",
    "from crewai_tools import SerperDevTool\n",
    "\n",
    "# Initialize tools\n",
    "search_tool = SerperDevTool()\n",
    "\n",
    "def create_travel_agent(destination, preferences):\n",
    "    # Define the Travel Agent\n",
    "    travel_agent = Agent(\n",
    "        role=\"Travel Planner\",\n",
    "        goal=f\"Plan a trip to {destination} based on user preferences\",\n",
    "        backstory=\"An expert travel assistant trained to create personalized travel itineraries\",\n",
    "        verbose=True,\n",
    "        tools=[search_tool],\n",
    "        llm=Gemini\n",
    "    )\n",
    "\n",
    "    # Define the Local Expert Agent\n",
    "    local_expert = Agent(\n",
    "        role=\"Local Expert\",\n",
    "        goal=f\"Provide insider knowledge and cultural insights about {destination}\",\n",
    "        backstory=f\"A longtime resident and cultural expert of {destination} with deep knowledge of local customs, hidden gems, and authentic experiences\",\n",
    "        verbose=True,\n",
    "        tools=[search_tool],\n",
    "        llm=Gemini\n",
    "    )\n",
    "\n",
    "    # Define the Travel Planning Task\n",
    "    travel_task = Task(\n",
    "        description=f\"Find the best places to visit, stay, and eat in {destination} based on preferences: {preferences}\",\n",
    "        expected_output=f\"A detailed travel itinerary for {destination} including places to visit, accommodations, and restaurants.\",\n",
    "        agent=travel_agent\n",
    "    )\n",
    "\n",
    "    # Define the Local Insights Task\n",
    "    local_task = Task(\n",
    "        description=f\"Provide insider tips, cultural insights, and hidden gems for {destination}. Consider local customs, best times to visit specific locations, and authentic local experiences.\",\n",
    "        expected_output=f\"A comprehensive guide of insider knowledge about {destination}, including cultural tips, local customs, and secret spots not found in typical tourist guides.\",\n",
    "        agent=local_expert\n",
    "    )\n",
    "\n",
    "    # Create and Run the Crew\n",
    "    crew = Crew(\n",
    "        agents=[travel_agent, local_expert],\n",
    "        tasks=[travel_task, local_task],\n",
    "        verbose=True,\n",
    "        process=Process.sequential\n",
    "    )\n",
    "\n",
    "    result = crew.kickoff(inputs={\"destination\": destination, \"preferences\": preferences})\n",
    "    return result"
   ]
  },
  {
   "cell_type": "markdown",
   "metadata": {
    "id": "dn-xzy89utDY"
   },
   "source": [
    "### Execute the agent\n"
   ]
  },
  {
   "cell_type": "code",
   "execution_count": null,
   "metadata": {
    "colab": {
     "base_uri": "https://localhost:8080/",
     "height": 1000,
     "referenced_widgets": [
      "28736e6be4e448a486619058a65a16ed",
      "4a22f859065e467baa913aa9ad5aed28",
      "69aa9cfac6dd4118969c56b28e165fd9",
      "72030c53d7954fbfaf6e4a91665c299e",
      "f6e56f763ee84d6daed1f7c7853e15e8",
      "c869fbf5fe4e47cca4b3eaa455c8ed97",
      "560692f0ad314792b1d75956cf445864",
      "4184e89355af4f868dec5ab864bbf2b5",
      "7167b769772340438efd8cda63d0e26d",
      "ebe9be34f9284029b0003e37b2a0c2f0",
      "7610c273be3c4203a7fce5cf50a16d37",
      "384016c4450f4be38ad3336a70964902"
     ]
    },
    "id": "CsM7G9QXunWB",
    "outputId": "031f7ffd-3cc3-47bc-da13-4cd6f4d37e69"
   },
   "outputs": [],
   "source": [
    "destination = input(\"Enter your travel destination (e.g., Paris, Bali): \")\n",
    "preferences = input(\"Enter your preferences (e.g., adventure, luxury, budget-friendly): \")\n",
    "travel_result = create_travel_agent(destination, preferences)\n",
    "print(\"Travel Itinerary:\")\n",
    "print(travel_result)"
   ]
  },
  {
   "cell_type": "code",
   "execution_count": null,
   "metadata": {
    "id": "pzr5wwLWtvDa"
   },
   "outputs": [],
   "source": []
  }
 ],
 "metadata": {
  "colab": {
   "provenance": []
  },
  "kernelspec": {
   "display_name": "Python 3",
   "name": "python3"
  },
  "language_info": {
   "name": "python"
  }
 },
 "nbformat": 4,
 "nbformat_minor": 0
}
